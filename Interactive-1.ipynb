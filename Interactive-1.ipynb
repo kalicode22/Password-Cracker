{
 "cells": [
  {
   "cell_type": "markdown",
   "metadata": {},
   "source": [
    "Connected to Python 3.11.9"
   ]
  },
  {
   "cell_type": "code",
   "execution_count": 1,
   "id": "9db40e8b-2b82-4d7d-8c8d-30afedd38850",
   "metadata": {},
   "outputs": [
    {
     "ename": "NameError",
     "evalue": "name '__KALICODE22__' is not defined",
     "output_type": "error",
     "traceback": [
      "\u001b[1;31m---------------------------------------------------------------------------\u001b[0m",
      "\u001b[1;31mNameError\u001b[0m                                 Traceback (most recent call last)",
      "File \u001b[1;32me:\\vault\\VS CODE\\my portfolio\\from flask import Flask, render_template.py:3\u001b[0m\n\u001b[0;32m      1\u001b[0m \u001b[39mfrom\u001b[39;00m \u001b[39mflask\u001b[39;00m \u001b[39mimport\u001b[39;00m Flask, render_template\n\u001b[1;32m----> 3\u001b[0m app \u001b[39m=\u001b[39m Flask(__KALICODE22__)\n\u001b[0;32m      5\u001b[0m \u001b[39m@app\u001b[39m\u001b[39m.\u001b[39mroute(\u001b[39m'\u001b[39m\u001b[39m/\u001b[39m\u001b[39m'\u001b[39m)\n\u001b[0;32m      6\u001b[0m \u001b[39mdef\u001b[39;00m \u001b[39mindex\u001b[39m():\n\u001b[0;32m      7\u001b[0m     \u001b[39mreturn\u001b[39;00m render_template(\u001b[39m'\u001b[39m\u001b[39mindex.html\u001b[39m\u001b[39m'\u001b[39m)\n",
      "\u001b[1;31mNameError\u001b[0m: name '__KALICODE22__' is not defined"
     ]
    }
   ],
   "source": [
    "from flask import Flask, render_template\n",
    "\n",
    "app = Flask(__KALICODE22__)\n",
    "\n",
    "@app.route('/')\n",
    "def index():\n",
    "    return render_template('index.html')\n",
    "\n",
    "@app.route('/projects')\n",
    "def projects():\n",
    "    # Define your projects data or fetch from database\n",
    "    projects = [\n",
    "        {\n",
    "            'title': 'KALICODE-22',\n",
    "            'description': 'Describe your project...',\n",
    "            'techniques_used': 'Tools and techniques...',\n",
    "            'outcomes': 'Results and impact...',\n",
    "            'image': 'project1.png'\n",
    "        },\n",
    "        # Add more projects\n",
    "    ]\n",
    "    return render_template('projects.html', projects=projects)\n",
    "\n",
    "# Add more routes for contact, about, etc.\n",
    "\n",
    "if __name__ == '__main__':\n",
    "    app.run(debug=True)"
   ]
  }
 ],
 "metadata": {
  "kernelspec": {
   "display_name": "Python 3",
   "language": "python",
   "name": "python3"
  },
  "language_info": {
   "name": "python",
   "version": "3.11.9"
  }
 },
 "nbformat": 4,
 "nbformat_minor": 2
}
